{
 "cells": [
  {
   "cell_type": "markdown",
   "metadata": {},
   "source": [
    "# Preparing the Data"
   ]
  },
  {
   "cell_type": "code",
   "execution_count": 66,
   "metadata": {
    "collapsed": false,
    "scrolled": true
   },
   "outputs": [
    {
     "name": "stdout",
     "output_type": "stream",
     "text": [
      "Using matplotlib backend: Qt4Agg\n"
     ]
    }
   ],
   "source": [
    "import pandas as pd\n",
    "import numpy as np\n",
    "import matplotlib.pyplot as plt\n",
    "from sklearn import cross_validation as cv\n",
    "from sklearn import preprocessing\n",
    "from sklearn import metrics\n",
    "from sklearn import dummy\n",
    "from sklearn import linear_model\n",
    "from sklearn import ensemble\n",
    "from sklearn import neighbors\n",
    "from sklearn import svm\n",
    "from sklearn import tree\n",
    "import seaborn as sns\n",
    "sns.set_style('darkgrid')\n",
    "%matplotlib"
   ]
  },
  {
   "cell_type": "code",
   "execution_count": 26,
   "metadata": {
    "collapsed": false
   },
   "outputs": [
    {
     "data": {
      "text/html": [
       "<div>\n",
       "<table border=\"1\" class=\"dataframe\">\n",
       "  <thead>\n",
       "    <tr style=\"text-align: right;\">\n",
       "      <th></th>\n",
       "      <th>income</th>\n",
       "      <th>age</th>\n",
       "      <th>fnlwgt</th>\n",
       "      <th>education-num</th>\n",
       "      <th>capital-gain</th>\n",
       "      <th>capital-loss</th>\n",
       "      <th>hours-per-week</th>\n",
       "      <th>workclass</th>\n",
       "      <th>education</th>\n",
       "      <th>marital-status</th>\n",
       "      <th>occupation</th>\n",
       "      <th>relationship</th>\n",
       "      <th>race</th>\n",
       "      <th>sex</th>\n",
       "      <th>native-country</th>\n",
       "    </tr>\n",
       "  </thead>\n",
       "  <tbody>\n",
       "    <tr>\n",
       "      <th>0</th>\n",
       "      <td>&lt;=50K</td>\n",
       "      <td>39</td>\n",
       "      <td>77516</td>\n",
       "      <td>13</td>\n",
       "      <td>2174</td>\n",
       "      <td>0</td>\n",
       "      <td>40</td>\n",
       "      <td>State-gov</td>\n",
       "      <td>Bachelors</td>\n",
       "      <td>Never-married</td>\n",
       "      <td>Adm-clerical</td>\n",
       "      <td>Not-in-family</td>\n",
       "      <td>White</td>\n",
       "      <td>Male</td>\n",
       "      <td>United-States</td>\n",
       "    </tr>\n",
       "    <tr>\n",
       "      <th>1</th>\n",
       "      <td>&lt;=50K</td>\n",
       "      <td>50</td>\n",
       "      <td>83311</td>\n",
       "      <td>13</td>\n",
       "      <td>0</td>\n",
       "      <td>0</td>\n",
       "      <td>13</td>\n",
       "      <td>Self-emp-not-inc</td>\n",
       "      <td>Bachelors</td>\n",
       "      <td>Married-civ-spouse</td>\n",
       "      <td>Exec-managerial</td>\n",
       "      <td>Husband</td>\n",
       "      <td>White</td>\n",
       "      <td>Male</td>\n",
       "      <td>United-States</td>\n",
       "    </tr>\n",
       "    <tr>\n",
       "      <th>2</th>\n",
       "      <td>&lt;=50K</td>\n",
       "      <td>38</td>\n",
       "      <td>215646</td>\n",
       "      <td>9</td>\n",
       "      <td>0</td>\n",
       "      <td>0</td>\n",
       "      <td>40</td>\n",
       "      <td>Private</td>\n",
       "      <td>HS-grad</td>\n",
       "      <td>Divorced</td>\n",
       "      <td>Handlers-cleaners</td>\n",
       "      <td>Not-in-family</td>\n",
       "      <td>White</td>\n",
       "      <td>Male</td>\n",
       "      <td>United-States</td>\n",
       "    </tr>\n",
       "  </tbody>\n",
       "</table>\n",
       "</div>"
      ],
      "text/plain": [
       "  income  age  fnlwgt  education-num  capital-gain  capital-loss  \\\n",
       "0  <=50K   39   77516             13          2174             0   \n",
       "1  <=50K   50   83311             13             0             0   \n",
       "2  <=50K   38  215646              9             0             0   \n",
       "\n",
       "   hours-per-week         workclass  education      marital-status  \\\n",
       "0              40         State-gov  Bachelors       Never-married   \n",
       "1              13  Self-emp-not-inc  Bachelors  Married-civ-spouse   \n",
       "2              40           Private    HS-grad            Divorced   \n",
       "\n",
       "          occupation   relationship   race   sex native-country  \n",
       "0       Adm-clerical  Not-in-family  White  Male  United-States  \n",
       "1    Exec-managerial        Husband  White  Male  United-States  \n",
       "2  Handlers-cleaners  Not-in-family  White  Male  United-States  "
      ]
     },
     "execution_count": 26,
     "metadata": {},
     "output_type": "execute_result"
    }
   ],
   "source": [
    "data = pd.read_csv('adult.data.csv')\n",
    "\n",
    "# Move the label + continuous variable as the first few columns\n",
    "# and move the categorical variables to the end\n",
    "data = data[['income', 'age', 'fnlwgt', 'education-num', 'capital-gain', 'capital-loss', 'hours-per-week', \n",
    "             'workclass', 'education', 'marital-status', 'occupation', 'relationship', 'race', 'sex', 'native-country']]\n",
    "data.head(3)"
   ]
  },
  {
   "cell_type": "code",
   "execution_count": 27,
   "metadata": {
    "collapsed": false
   },
   "outputs": [
    {
     "name": "stdout",
     "output_type": "stream",
     "text": [
      "<class 'pandas.core.frame.DataFrame'>\n",
      "Int64Index: 32561 entries, 0 to 32560\n",
      "Data columns (total 15 columns):\n",
      "income            32561 non-null object\n",
      "age               32561 non-null int64\n",
      "fnlwgt            32561 non-null int64\n",
      "education-num     32561 non-null int64\n",
      "capital-gain      32561 non-null int64\n",
      "capital-loss      32561 non-null int64\n",
      "hours-per-week    32561 non-null int64\n",
      "workclass         32561 non-null object\n",
      "education         32561 non-null object\n",
      "marital-status    32561 non-null object\n",
      "occupation        32561 non-null object\n",
      "relationship      32561 non-null object\n",
      "race              32561 non-null object\n",
      "sex               32561 non-null object\n",
      "native-country    32561 non-null object\n",
      "dtypes: int64(6), object(9)\n",
      "memory usage: 4.0+ MB\n"
     ]
    }
   ],
   "source": [
    "data.info()"
   ]
  },
  {
   "cell_type": "code",
   "execution_count": 28,
   "metadata": {
    "collapsed": false
   },
   "outputs": [
    {
     "data": {
      "text/html": [
       "<div>\n",
       "<table border=\"1\" class=\"dataframe\">\n",
       "  <thead>\n",
       "    <tr style=\"text-align: right;\">\n",
       "      <th></th>\n",
       "      <th>age</th>\n",
       "      <th>fnlwgt</th>\n",
       "      <th>education-num</th>\n",
       "      <th>capital-gain</th>\n",
       "      <th>capital-loss</th>\n",
       "      <th>hours-per-week</th>\n",
       "    </tr>\n",
       "  </thead>\n",
       "  <tbody>\n",
       "    <tr>\n",
       "      <th>count</th>\n",
       "      <td>32561.000000</td>\n",
       "      <td>32561.000000</td>\n",
       "      <td>32561.000000</td>\n",
       "      <td>32561.000000</td>\n",
       "      <td>32561.000000</td>\n",
       "      <td>32561.000000</td>\n",
       "    </tr>\n",
       "    <tr>\n",
       "      <th>mean</th>\n",
       "      <td>38.581647</td>\n",
       "      <td>189778.366512</td>\n",
       "      <td>10.080679</td>\n",
       "      <td>1077.648844</td>\n",
       "      <td>87.303830</td>\n",
       "      <td>40.437456</td>\n",
       "    </tr>\n",
       "    <tr>\n",
       "      <th>std</th>\n",
       "      <td>13.640433</td>\n",
       "      <td>105549.977697</td>\n",
       "      <td>2.572720</td>\n",
       "      <td>7385.292085</td>\n",
       "      <td>402.960219</td>\n",
       "      <td>12.347429</td>\n",
       "    </tr>\n",
       "    <tr>\n",
       "      <th>min</th>\n",
       "      <td>17.000000</td>\n",
       "      <td>12285.000000</td>\n",
       "      <td>1.000000</td>\n",
       "      <td>0.000000</td>\n",
       "      <td>0.000000</td>\n",
       "      <td>1.000000</td>\n",
       "    </tr>\n",
       "    <tr>\n",
       "      <th>25%</th>\n",
       "      <td>28.000000</td>\n",
       "      <td>117827.000000</td>\n",
       "      <td>9.000000</td>\n",
       "      <td>0.000000</td>\n",
       "      <td>0.000000</td>\n",
       "      <td>40.000000</td>\n",
       "    </tr>\n",
       "    <tr>\n",
       "      <th>50%</th>\n",
       "      <td>37.000000</td>\n",
       "      <td>178356.000000</td>\n",
       "      <td>10.000000</td>\n",
       "      <td>0.000000</td>\n",
       "      <td>0.000000</td>\n",
       "      <td>40.000000</td>\n",
       "    </tr>\n",
       "    <tr>\n",
       "      <th>75%</th>\n",
       "      <td>48.000000</td>\n",
       "      <td>237051.000000</td>\n",
       "      <td>12.000000</td>\n",
       "      <td>0.000000</td>\n",
       "      <td>0.000000</td>\n",
       "      <td>45.000000</td>\n",
       "    </tr>\n",
       "    <tr>\n",
       "      <th>max</th>\n",
       "      <td>90.000000</td>\n",
       "      <td>1484705.000000</td>\n",
       "      <td>16.000000</td>\n",
       "      <td>99999.000000</td>\n",
       "      <td>4356.000000</td>\n",
       "      <td>99.000000</td>\n",
       "    </tr>\n",
       "  </tbody>\n",
       "</table>\n",
       "</div>"
      ],
      "text/plain": [
       "                age          fnlwgt  education-num  capital-gain  \\\n",
       "count  32561.000000    32561.000000   32561.000000  32561.000000   \n",
       "mean      38.581647   189778.366512      10.080679   1077.648844   \n",
       "std       13.640433   105549.977697       2.572720   7385.292085   \n",
       "min       17.000000    12285.000000       1.000000      0.000000   \n",
       "25%       28.000000   117827.000000       9.000000      0.000000   \n",
       "50%       37.000000   178356.000000      10.000000      0.000000   \n",
       "75%       48.000000   237051.000000      12.000000      0.000000   \n",
       "max       90.000000  1484705.000000      16.000000  99999.000000   \n",
       "\n",
       "       capital-loss  hours-per-week  \n",
       "count  32561.000000    32561.000000  \n",
       "mean      87.303830       40.437456  \n",
       "std      402.960219       12.347429  \n",
       "min        0.000000        1.000000  \n",
       "25%        0.000000       40.000000  \n",
       "50%        0.000000       40.000000  \n",
       "75%        0.000000       45.000000  \n",
       "max     4356.000000       99.000000  "
      ]
     },
     "execution_count": 28,
     "metadata": {},
     "output_type": "execute_result"
    }
   ],
   "source": [
    "data.describe()"
   ]
  },
  {
   "cell_type": "code",
   "execution_count": 30,
   "metadata": {
    "collapsed": false
   },
   "outputs": [
    {
     "data": {
      "text/plain": [
       "array(['<=50K', '>50K'], dtype=object)"
      ]
     },
     "execution_count": 30,
     "metadata": {},
     "output_type": "execute_result"
    }
   ],
   "source": [
    "data['income'].unique()"
   ]
  },
  {
   "cell_type": "code",
   "execution_count": 31,
   "metadata": {
    "collapsed": false
   },
   "outputs": [],
   "source": [
    "data['income'] = data['income'].apply(lambda x: 1 if x == '>50K' else 0)"
   ]
  },
  {
   "cell_type": "code",
   "execution_count": 8,
   "metadata": {
    "collapsed": false,
    "scrolled": false
   },
   "outputs": [
    {
     "data": {
      "text/plain": [
       "<seaborn.axisgrid.PairGrid at 0x96226a0>"
      ]
     },
     "execution_count": 8,
     "metadata": {},
     "output_type": "execute_result"
    }
   ],
   "source": [
    "sns.pairplot(data, hue='income')"
   ]
  },
  {
   "cell_type": "code",
   "execution_count": 9,
   "metadata": {
    "collapsed": false
   },
   "outputs": [],
   "source": [
    "for col in data.dtypes[data.dtypes == object].index:\n",
    "    plt.figure()\n",
    "    sns.countplot(y=col, hue='income', data=data)"
   ]
  },
  {
   "cell_type": "code",
   "execution_count": 32,
   "metadata": {
    "collapsed": false
   },
   "outputs": [],
   "source": [
    "features = pd.get_dummies(data, columns=data.dtypes[data.dtypes == object].index).drop('income', axis=1)\n",
    "target = data['income']"
   ]
  },
  {
   "cell_type": "code",
   "execution_count": 33,
   "metadata": {
    "collapsed": false
   },
   "outputs": [
    {
     "data": {
      "text/plain": [
       "Index(['age', 'fnlwgt', 'education-num', 'capital-gain', 'capital-loss',\n",
       "       'hours-per-week', 'workclass_?', 'workclass_Federal-gov',\n",
       "       'workclass_Local-gov', 'workclass_Never-worked', \n",
       "       ...\n",
       "       'native-country_Portugal', 'native-country_Puerto-Rico',\n",
       "       'native-country_Scotland', 'native-country_South',\n",
       "       'native-country_Taiwan', 'native-country_Thailand',\n",
       "       'native-country_Trinadad&Tobago', 'native-country_United-States',\n",
       "       'native-country_Vietnam', 'native-country_Yugoslavia'],\n",
       "      dtype='object', length=108)"
      ]
     },
     "execution_count": 33,
     "metadata": {},
     "output_type": "execute_result"
    }
   ],
   "source": [
    "features.columns"
   ]
  },
  {
   "cell_type": "code",
   "execution_count": 35,
   "metadata": {
    "collapsed": false
   },
   "outputs": [],
   "source": [
    "X, y = features.values, target.values"
   ]
  },
  {
   "cell_type": "markdown",
   "metadata": {},
   "source": [
    "## Transforming the data\n",
    "The first 6 columns have numerical features, so we'll scale them into the [0,1] range so our algorithms can perform better. \n",
    "\n",
    "We don't want to scale the indicator variables generated from our categorical features because many of them are sparse."
   ]
  },
  {
   "cell_type": "code",
   "execution_count": 59,
   "metadata": {
    "collapsed": false
   },
   "outputs": [],
   "source": [
    "# Scale only the continuous features\n",
    "# The indicator variables shouldn't be \n",
    "scaler = preprocessing.StandardScaler()\n",
    "X[:, :6] = scaler.fit_transform(X[:, :6])"
   ]
  },
  {
   "cell_type": "markdown",
   "metadata": {},
   "source": [
    "# Spot checking algorithms + setting up the Test Harness"
   ]
  },
  {
   "cell_type": "markdown",
   "metadata": {},
   "source": [
    "We are going to use the training data given to use from the UCI Machine Learning repository for testing our algorithms with 10-fold cross validation. After checking the data, I found that this is a imbalanced class classification probelm, where the ratio of the negative to positive labels is about 3:1. In order to handle this, instead of using classification accuracy as our metric, we'll be using the F1 score.\n",
    "\n",
    "Also to systematically evaluate algorithms, we'll be spot checking the following algorithms:\n"
   ]
  },
  {
   "cell_type": "code",
   "execution_count": 83,
   "metadata": {
    "collapsed": true
   },
   "outputs": [],
   "source": [
    "classifiers = [dummy.DummyClassifier()\n",
    "              ,linear_model.LogisticRegression(penalty='l1', C=0.01)\n",
    "              ,linear_model.LogisticRegression(penalty='l1', C=0.1)\n",
    "              ,linear_model.LogisticRegression(penalty='l1', C=1.0) \n",
    "              ,linear_model.LogisticRegression(penalty='l2', C=0.01)\n",
    "              ,linear_model.LogisticRegression(penalty='l2', C=0.1)\n",
    "              ,linear_model.LogisticRegression(penalty='l2', C=1.0)\n",
    "              ,linear_model.PassiveAggressiveClassifier(C=0.01)\n",
    "              ,linear_model.PassiveAggressiveClassifier(C=0.1)\n",
    "              ,linear_model.PassiveAggressiveClassifier(C=1.0)\n",
    "              ,linear_model.Perceptron()\n",
    "              ,linear_model.Perceptron(penalty='l1')\n",
    "              ,linear_model.Perceptron(penalty='l2')\n",
    "              ,ensemble.AdaBoostClassifier(n_estimators=100)\n",
    "              ,ensemble.AdaBoostClassifier(n_estimators=200)\n",
    "              ,ensemble.AdaBoostClassifier(n_estimators=500)\n",
    "              ,ensemble.BaggingClassifier(n_estimators=100)\n",
    "              ,ensemble.BaggingClassifier(n_estimators=200)\n",
    "              ,ensemble.BaggingClassifier(n_estimators=500)\n",
    "              ,ensemble.ExtraTreesClassifier(n_estimators=100)\n",
    "              ,ensemble.ExtraTreesClassifier(n_estimators=200)\n",
    "              ,ensemble.ExtraTreesClassifier(n_estimators=500)\n",
    "              ,ensemble.GradientBoostingClassifier(n_estimators=100)\n",
    "              ,ensemble.GradientBoostingClassifier(n_estimators=200)\n",
    "              ,ensemble.GradientBoostingClassifier(n_estimators=500)\n",
    "              ,ensemble.RandomForestClassifier(n_estimators=100)\n",
    "              ,ensemble.RandomForestClassifier(n_estimators=200)\n",
    "              ,ensemble.RandomForestClassifier(n_estimators=500)\n",
    "              ,neighbors.KNeighborsClassifier(n_neighbors=1)\n",
    "              ,neighbors.KNeighborsClassifier(n_neighbors=5)\n",
    "              ,neighbors.KNeighborsClassifier(n_neighbors=7)\n",
    "              ,tree.DecisionTreeClassifier(criterion='gini')\n",
    "              ,tree.DecisionTreeClassifier(criterion='entropy')\n",
    "              ,svm.SVC(kernel='linear')\n",
    "              ,svm.SVC(kernel='poly')\n",
    "              ,svm.SVC(kernel='rbf')\n",
    "              ]"
   ]
  },
  {
   "cell_type": "code",
   "execution_count": 84,
   "metadata": {
    "collapsed": false
   },
   "outputs": [],
   "source": [
    "results = np.array([cv.cross_val_score(clf, X, y, scoring='f1', cv=10, n_jobs=-1) for clf in classifiers])"
   ]
  },
  {
   "cell_type": "code",
   "execution_count": 85,
   "metadata": {
    "collapsed": false
   },
   "outputs": [
    {
     "name": "stdout",
     "output_type": "stream",
     "text": [
      "[ 0.24428439  0.63355121  0.65710311  0.6615626   0.6453196   0.66009681\n",
      "  0.6613801   0.6458606   0.5791316   0.57065824  0.62108482  0.60954448\n",
      "  0.58205765  0.69007711  0.69669124  0.70495999  0.67682828  0.67654866\n",
      "  0.67902136  0.6329108   0.6335421   0.63631023  0.68461011  0.6985837\n",
      "  0.71184957  0.67304583  0.67206979  0.6734455   0.58631727  0.63241482\n",
      "  0.63828106  0.62591244  0.62784616  0.65343911  0.21424922  0.65120681]\n",
      "[ 0.01167388  0.01217495  0.01055939  0.01012239  0.01043794  0.00937203\n",
      "  0.0096656   0.01972318  0.07168251  0.09601491  0.02389168  0.04859473\n",
      "  0.03232464  0.01366066  0.01376298  0.01349839  0.01228201  0.0108256\n",
      "  0.01332323  0.01154303  0.01218588  0.01440477  0.01135943  0.01050196\n",
      "  0.00998299  0.0135855   0.01301966  0.01370305  0.01130654  0.01231269\n",
      "  0.01289095  0.01357313  0.01154644  0.01112284  0.01564406  0.01450701]\n"
     ]
    }
   ],
   "source": [
    "print(np.mean(results, axis=1))\n",
    "print(np.std(results, axis=1))"
   ]
  }
 ],
 "metadata": {
  "kernelspec": {
   "display_name": "Python 3",
   "language": "python",
   "name": "python3"
  },
  "language_info": {
   "codemirror_mode": {
    "name": "ipython",
    "version": 3
   },
   "file_extension": ".py",
   "mimetype": "text/x-python",
   "name": "python",
   "nbconvert_exporter": "python",
   "pygments_lexer": "ipython3",
   "version": "3.4.3"
  }
 },
 "nbformat": 4,
 "nbformat_minor": 0
}
